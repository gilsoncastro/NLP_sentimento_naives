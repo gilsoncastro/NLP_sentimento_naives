{
  "nbformat": 4,
  "nbformat_minor": 0,
  "metadata": {
    "colab": {
      "name": "Case_ NLP_ sentimentos",
      "provenance": []
    },
    "kernelspec": {
      "name": "python3",
      "display_name": "Python 3"
    },
    "language_info": {
      "name": "python"
    }
  },
  "cells": [
    {
      "cell_type": "markdown",
      "source": [
        "## Classificação de sentimentos dos comentários de avaliação de produtos do site Olist"
      ],
      "metadata": {
        "id": "LDrpQDELgo6O"
      }
    },
    {
      "cell_type": "markdown",
      "source": [
        "**Resumo**\n",
        "\n",
        "Esse notebook tem como objetivo construir um **modelo de classificação de sentimento** usando um conjunto de dados não estruturados (*comentários sobre um determinado produto*) para isso, será ultilizado a técnica de extração de feature para aplicar um algortimo de classificação afim de prever sentimentos **positivos** ou **negativos**.\n",
        "\n",
        "O presente trabalho está dividido nas seguintes etapas:\n",
        "\n",
        "1. Pré-processamento dos dados\n",
        "2. Extração de features : Bag of Words e TF-IDF\n",
        "3. Métricas de classificação\n",
        "4. Construção de um classificador Naive Bayes\n",
        "5. Validando o modelo\n",
        "6. Conclusões finais\n",
        "\n",
        "\n",
        "\n"
      ],
      "metadata": {
        "id": "r11yvoU6gxIX"
      }
    },
    {
      "cell_type": "markdown",
      "source": [
        "Instalação das bibliotecas "
      ],
      "metadata": {
        "id": "TjqGz4Bij26-"
      }
    },
    {
      "cell_type": "code",
      "source": [
        "#instalação da biblioteca- versão 2.2.3\n",
        "!pip install -q spacy==2.2.3"
      ],
      "metadata": {
        "id": "-H9XuiaNj8G0"
      },
      "execution_count": null,
      "outputs": []
    },
    {
      "cell_type": "code",
      "source": [
        "#download do pacote em portugues para processamento dos textos\n",
        "!python3 -m spacy download pt"
      ],
      "metadata": {
        "id": "S5E-4bO6j8EM"
      },
      "execution_count": null,
      "outputs": []
    },
    {
      "cell_type": "code",
      "source": [
        "#instalação da biblioteca NLTK\n",
        "!pip install nltk"
      ],
      "metadata": {
        "colab": {
          "base_uri": "https://localhost:8080/"
        },
        "id": "QgudpB6Kj8BQ",
        "outputId": "73e83535-91b6-4d19-8a02-ec74b51c2ff5"
      },
      "execution_count": null,
      "outputs": [
        {
          "output_type": "stream",
          "name": "stdout",
          "text": [
            "Looking in indexes: https://pypi.org/simple, https://us-python.pkg.dev/colab-wheels/public/simple/\n",
            "Requirement already satisfied: nltk in /usr/local/lib/python3.7/dist-packages (3.7)\n",
            "Requirement already satisfied: click in /usr/local/lib/python3.7/dist-packages (from nltk) (7.1.2)\n",
            "Requirement already satisfied: tqdm in /usr/local/lib/python3.7/dist-packages (from nltk) (4.64.0)\n",
            "Requirement already satisfied: joblib in /usr/local/lib/python3.7/dist-packages (from nltk) (1.1.0)\n",
            "Requirement already satisfied: regex>=2021.8.3 in /usr/local/lib/python3.7/dist-packages (from nltk) (2022.6.2)\n"
          ]
        }
      ]
    },
    {
      "cell_type": "markdown",
      "source": [
        "# Pré-processamento dos dados"
      ],
      "metadata": {
        "id": "D8S4Sr4KjtHJ"
      }
    },
    {
      "cell_type": "code",
      "source": [
        "#importação das bibliotecas\n",
        "import pandas as pd\n",
        "import re\n",
        "import nltk\n",
        "import spacy\n",
        "import matplotlib.pyplot as plt\n",
        "import seaborn as sns\n",
        "import spacy.cli\n",
        "\n",
        "\n",
        "%matplotlib inline"
      ],
      "metadata": {
        "id": "_fDh1tn3gov0"
      },
      "execution_count": null,
      "outputs": []
    },
    {
      "cell_type": "code",
      "source": [
        "spacy.cli.download(\"pt_core_news_sm\") #download de dependencias "
      ],
      "metadata": {
        "colab": {
          "base_uri": "https://localhost:8080/"
        },
        "id": "wD2fWbTLgos7",
        "outputId": "cfaad3b2-44c6-4e23-b41c-98424ded298f"
      },
      "execution_count": null,
      "outputs": [
        {
          "output_type": "stream",
          "name": "stdout",
          "text": [
            "\u001b[38;5;3m⚠ Skipping model package dependencies and setting `--no-deps`. You\n",
            "don't seem to have the spaCy package itself installed (maybe because you've\n",
            "built from source?), so installing the model dependencies would cause spaCy to\n",
            "be downloaded, which probably isn't what you want. If the model package has\n",
            "other dependencies, you'll have to install them manually.\u001b[0m\n",
            "\u001b[38;5;2m✔ Download and installation successful\u001b[0m\n",
            "You can now load the model via spacy.load('pt_core_news_sm')\n"
          ]
        }
      ]
    },
    {
      "cell_type": "code",
      "source": [
        "import pt_core_news_sm #importando um recurso para trabalhar com textos em pt\n",
        "spc_pt = pt_core_news_sm.load()"
      ],
      "metadata": {
        "id": "P34iK3L6goo_"
      },
      "execution_count": null,
      "outputs": []
    },
    {
      "cell_type": "code",
      "source": [
        "#usando a função de leitura do pandas para ler dados em formato csv\n",
        "df = pd.read_csv(\"/content/drive/MyDrive/dados_desafio/olist_order_reviews_dataset.csv\")"
      ],
      "metadata": {
        "id": "tLpwghXBgolK"
      },
      "execution_count": null,
      "outputs": []
    },
    {
      "cell_type": "code",
      "source": [
        "df.head(5) #visualizando as primeiras 5 linhas"
      ],
      "metadata": {
        "colab": {
          "base_uri": "https://localhost:8080/",
          "height": 305
        },
        "id": "XRBHqiXxgoiI",
        "outputId": "344c955a-eb36-48a4-c607-69104e2e5b07"
      },
      "execution_count": null,
      "outputs": [
        {
          "output_type": "execute_result",
          "data": {
            "text/plain": [
              "                          review_id                          order_id  \\\n",
              "0  7bc2406110b926393aa56f80a40eba40  73fc7af87114b39712e6da79b0a377eb   \n",
              "1  80e641a11e56f04c1ad469d5645fdfde  a548910a1c6147796b98fdf73dbeba33   \n",
              "2  228ce5500dc1d8e020d8d1322874b6f0  f9e4b658b201a9f2ecdecbb34bed034b   \n",
              "3  e64fb393e7b32834bb789ff8bb30750e  658677c97b385a9be170737859d3511b   \n",
              "4  f7c4243c7fe1938f181bec41a392bdeb  8e6bfb81e283fa7e4f11123a3fb894f1   \n",
              "\n",
              "   review_score review_comment_title  \\\n",
              "0             4                  NaN   \n",
              "1             5                  NaN   \n",
              "2             5                  NaN   \n",
              "3             5                  NaN   \n",
              "4             5                  NaN   \n",
              "\n",
              "                              review_comment_message review_creation_date  \\\n",
              "0                                                NaN  2018-01-18 00:00:00   \n",
              "1                                                NaN  2018-03-10 00:00:00   \n",
              "2                                                NaN  2018-02-17 00:00:00   \n",
              "3              Recebi bem antes do prazo estipulado.  2017-04-21 00:00:00   \n",
              "4  Parabéns lojas lannister adorei comprar pela I...  2018-03-01 00:00:00   \n",
              "\n",
              "  review_answer_timestamp  \n",
              "0     2018-01-18 21:46:59  \n",
              "1     2018-03-11 03:05:13  \n",
              "2     2018-02-18 14:36:24  \n",
              "3     2017-04-21 22:02:06  \n",
              "4     2018-03-02 10:26:53  "
            ],
            "text/html": [
              "\n",
              "  <div id=\"df-34db6019-976f-46eb-8e7f-1ee41c1a2257\">\n",
              "    <div class=\"colab-df-container\">\n",
              "      <div>\n",
              "<style scoped>\n",
              "    .dataframe tbody tr th:only-of-type {\n",
              "        vertical-align: middle;\n",
              "    }\n",
              "\n",
              "    .dataframe tbody tr th {\n",
              "        vertical-align: top;\n",
              "    }\n",
              "\n",
              "    .dataframe thead th {\n",
              "        text-align: right;\n",
              "    }\n",
              "</style>\n",
              "<table border=\"1\" class=\"dataframe\">\n",
              "  <thead>\n",
              "    <tr style=\"text-align: right;\">\n",
              "      <th></th>\n",
              "      <th>review_id</th>\n",
              "      <th>order_id</th>\n",
              "      <th>review_score</th>\n",
              "      <th>review_comment_title</th>\n",
              "      <th>review_comment_message</th>\n",
              "      <th>review_creation_date</th>\n",
              "      <th>review_answer_timestamp</th>\n",
              "    </tr>\n",
              "  </thead>\n",
              "  <tbody>\n",
              "    <tr>\n",
              "      <th>0</th>\n",
              "      <td>7bc2406110b926393aa56f80a40eba40</td>\n",
              "      <td>73fc7af87114b39712e6da79b0a377eb</td>\n",
              "      <td>4</td>\n",
              "      <td>NaN</td>\n",
              "      <td>NaN</td>\n",
              "      <td>2018-01-18 00:00:00</td>\n",
              "      <td>2018-01-18 21:46:59</td>\n",
              "    </tr>\n",
              "    <tr>\n",
              "      <th>1</th>\n",
              "      <td>80e641a11e56f04c1ad469d5645fdfde</td>\n",
              "      <td>a548910a1c6147796b98fdf73dbeba33</td>\n",
              "      <td>5</td>\n",
              "      <td>NaN</td>\n",
              "      <td>NaN</td>\n",
              "      <td>2018-03-10 00:00:00</td>\n",
              "      <td>2018-03-11 03:05:13</td>\n",
              "    </tr>\n",
              "    <tr>\n",
              "      <th>2</th>\n",
              "      <td>228ce5500dc1d8e020d8d1322874b6f0</td>\n",
              "      <td>f9e4b658b201a9f2ecdecbb34bed034b</td>\n",
              "      <td>5</td>\n",
              "      <td>NaN</td>\n",
              "      <td>NaN</td>\n",
              "      <td>2018-02-17 00:00:00</td>\n",
              "      <td>2018-02-18 14:36:24</td>\n",
              "    </tr>\n",
              "    <tr>\n",
              "      <th>3</th>\n",
              "      <td>e64fb393e7b32834bb789ff8bb30750e</td>\n",
              "      <td>658677c97b385a9be170737859d3511b</td>\n",
              "      <td>5</td>\n",
              "      <td>NaN</td>\n",
              "      <td>Recebi bem antes do prazo estipulado.</td>\n",
              "      <td>2017-04-21 00:00:00</td>\n",
              "      <td>2017-04-21 22:02:06</td>\n",
              "    </tr>\n",
              "    <tr>\n",
              "      <th>4</th>\n",
              "      <td>f7c4243c7fe1938f181bec41a392bdeb</td>\n",
              "      <td>8e6bfb81e283fa7e4f11123a3fb894f1</td>\n",
              "      <td>5</td>\n",
              "      <td>NaN</td>\n",
              "      <td>Parabéns lojas lannister adorei comprar pela I...</td>\n",
              "      <td>2018-03-01 00:00:00</td>\n",
              "      <td>2018-03-02 10:26:53</td>\n",
              "    </tr>\n",
              "  </tbody>\n",
              "</table>\n",
              "</div>\n",
              "      <button class=\"colab-df-convert\" onclick=\"convertToInteractive('df-34db6019-976f-46eb-8e7f-1ee41c1a2257')\"\n",
              "              title=\"Convert this dataframe to an interactive table.\"\n",
              "              style=\"display:none;\">\n",
              "        \n",
              "  <svg xmlns=\"http://www.w3.org/2000/svg\" height=\"24px\"viewBox=\"0 0 24 24\"\n",
              "       width=\"24px\">\n",
              "    <path d=\"M0 0h24v24H0V0z\" fill=\"none\"/>\n",
              "    <path d=\"M18.56 5.44l.94 2.06.94-2.06 2.06-.94-2.06-.94-.94-2.06-.94 2.06-2.06.94zm-11 1L8.5 8.5l.94-2.06 2.06-.94-2.06-.94L8.5 2.5l-.94 2.06-2.06.94zm10 10l.94 2.06.94-2.06 2.06-.94-2.06-.94-.94-2.06-.94 2.06-2.06.94z\"/><path d=\"M17.41 7.96l-1.37-1.37c-.4-.4-.92-.59-1.43-.59-.52 0-1.04.2-1.43.59L10.3 9.45l-7.72 7.72c-.78.78-.78 2.05 0 2.83L4 21.41c.39.39.9.59 1.41.59.51 0 1.02-.2 1.41-.59l7.78-7.78 2.81-2.81c.8-.78.8-2.07 0-2.86zM5.41 20L4 18.59l7.72-7.72 1.47 1.35L5.41 20z\"/>\n",
              "  </svg>\n",
              "      </button>\n",
              "      \n",
              "  <style>\n",
              "    .colab-df-container {\n",
              "      display:flex;\n",
              "      flex-wrap:wrap;\n",
              "      gap: 12px;\n",
              "    }\n",
              "\n",
              "    .colab-df-convert {\n",
              "      background-color: #E8F0FE;\n",
              "      border: none;\n",
              "      border-radius: 50%;\n",
              "      cursor: pointer;\n",
              "      display: none;\n",
              "      fill: #1967D2;\n",
              "      height: 32px;\n",
              "      padding: 0 0 0 0;\n",
              "      width: 32px;\n",
              "    }\n",
              "\n",
              "    .colab-df-convert:hover {\n",
              "      background-color: #E2EBFA;\n",
              "      box-shadow: 0px 1px 2px rgba(60, 64, 67, 0.3), 0px 1px 3px 1px rgba(60, 64, 67, 0.15);\n",
              "      fill: #174EA6;\n",
              "    }\n",
              "\n",
              "    [theme=dark] .colab-df-convert {\n",
              "      background-color: #3B4455;\n",
              "      fill: #D2E3FC;\n",
              "    }\n",
              "\n",
              "    [theme=dark] .colab-df-convert:hover {\n",
              "      background-color: #434B5C;\n",
              "      box-shadow: 0px 1px 3px 1px rgba(0, 0, 0, 0.15);\n",
              "      filter: drop-shadow(0px 1px 2px rgba(0, 0, 0, 0.3));\n",
              "      fill: #FFFFFF;\n",
              "    }\n",
              "  </style>\n",
              "\n",
              "      <script>\n",
              "        const buttonEl =\n",
              "          document.querySelector('#df-34db6019-976f-46eb-8e7f-1ee41c1a2257 button.colab-df-convert');\n",
              "        buttonEl.style.display =\n",
              "          google.colab.kernel.accessAllowed ? 'block' : 'none';\n",
              "\n",
              "        async function convertToInteractive(key) {\n",
              "          const element = document.querySelector('#df-34db6019-976f-46eb-8e7f-1ee41c1a2257');\n",
              "          const dataTable =\n",
              "            await google.colab.kernel.invokeFunction('convertToInteractive',\n",
              "                                                     [key], {});\n",
              "          if (!dataTable) return;\n",
              "\n",
              "          const docLinkHtml = 'Like what you see? Visit the ' +\n",
              "            '<a target=\"_blank\" href=https://colab.research.google.com/notebooks/data_table.ipynb>data table notebook</a>'\n",
              "            + ' to learn more about interactive tables.';\n",
              "          element.innerHTML = '';\n",
              "          dataTable['output_type'] = 'display_data';\n",
              "          await google.colab.output.renderOutput(dataTable, element);\n",
              "          const docLink = document.createElement('div');\n",
              "          docLink.innerHTML = docLinkHtml;\n",
              "          element.appendChild(docLink);\n",
              "        }\n",
              "      </script>\n",
              "    </div>\n",
              "  </div>\n",
              "  "
            ]
          },
          "metadata": {},
          "execution_count": 10
        }
      ]
    },
    {
      "cell_type": "code",
      "execution_count": null,
      "metadata": {
        "colab": {
          "base_uri": "https://localhost:8080/"
        },
        "id": "VxhD6RRegi8A",
        "outputId": "837b9d75-6741-41bc-f6cd-8e01816f6b66"
      },
      "outputs": [
        {
          "output_type": "execute_result",
          "data": {
            "text/plain": [
              "Index(['review_id', 'order_id', 'review_score', 'review_comment_title',\n",
              "       'review_comment_message', 'review_creation_date',\n",
              "       'review_answer_timestamp'],\n",
              "      dtype='object')"
            ]
          },
          "metadata": {},
          "execution_count": 11
        }
      ],
      "source": [
        "#verificando as colunas do conjunto de dados \n",
        "df.columns"
      ]
    },
    {
      "cell_type": "markdown",
      "source": [
        "O nosso foco aqui é utilizar apenas as colunas alvos para trabalhar na nossa análise desse modo, será removida algumas usando a [função drop](https://pandas.pydata.org/docs/reference/api/pandas.DataFrame.drop.html) da biblioteca pandas "
      ],
      "metadata": {
        "id": "Bbtkx-8imysg"
      }
    },
    {
      "cell_type": "code",
      "source": [
        "#dropando as colunas desnecessárias usando a função drop do pandas \n",
        "df.drop(['order_id', 'review_creation_date', 'review_answer_timestamp'],\n",
        "          1, inplace = True)"
      ],
      "metadata": {
        "colab": {
          "base_uri": "https://localhost:8080/"
        },
        "id": "vQN2hVR7m0Jm",
        "outputId": "825284a8-b1b3-4015-8413-10b768a4c71a"
      },
      "execution_count": null,
      "outputs": [
        {
          "output_type": "stream",
          "name": "stderr",
          "text": [
            "/usr/local/lib/python3.7/dist-packages/ipykernel_launcher.py:3: FutureWarning: In a future version of pandas all arguments of DataFrame.drop except for the argument 'labels' will be keyword-only\n",
            "  This is separate from the ipykernel package so we can avoid doing imports until\n"
          ]
        }
      ]
    },
    {
      "cell_type": "code",
      "source": [
        "#verificando as informações do conjunto de dados \n",
        "df.info()"
      ],
      "metadata": {
        "colab": {
          "base_uri": "https://localhost:8080/"
        },
        "id": "oJXqsmoZm2BH",
        "outputId": "c46e61eb-d78a-409f-f69f-4c698e6a69e6"
      },
      "execution_count": null,
      "outputs": [
        {
          "output_type": "stream",
          "name": "stdout",
          "text": [
            "<class 'pandas.core.frame.DataFrame'>\n",
            "RangeIndex: 99224 entries, 0 to 99223\n",
            "Data columns (total 4 columns):\n",
            " #   Column                  Non-Null Count  Dtype \n",
            "---  ------                  --------------  ----- \n",
            " 0   review_id               99224 non-null  object\n",
            " 1   review_score            99224 non-null  int64 \n",
            " 2   review_comment_title    11568 non-null  object\n",
            " 3   review_comment_message  40977 non-null  object\n",
            "dtypes: int64(1), object(3)\n",
            "memory usage: 3.0+ MB\n"
          ]
        }
      ]
    },
    {
      "cell_type": "markdown",
      "source": [
        "Agora veremos se nosso conjunto de dados tem valores faltantes , valores duplicados para iniciar um tratamento destes mesmos pois é necessário para que o classificador funcione bem."
      ],
      "metadata": {
        "id": "dgBHovvQnJYr"
      }
    },
    {
      "cell_type": "code",
      "source": [
        "#calculando a % de dados duplicados com a função do pandas duplicated()\n",
        "df_duplicados = round(sum(df.duplicated(\"review_id\"))/len(df)*100, 2)\n",
        "#imprimindo a %\n",
        "print(f\"Reviews com id duplicado: {df_duplicados}%.\")"
      ],
      "metadata": {
        "colab": {
          "base_uri": "https://localhost:8080/"
        },
        "id": "0bExGH_sm192",
        "outputId": "4cc21b58-f21e-4f4f-e158-470df3819950"
      },
      "execution_count": null,
      "outputs": [
        {
          "output_type": "stream",
          "name": "stdout",
          "text": [
            "Reviews com id duplicado: 0.82%.\n"
          ]
        }
      ]
    },
    {
      "cell_type": "markdown",
      "source": [
        "Conforme é possivel ver acima, temos cerca de **82%** de dados duplicados nesse caso, vamos remover estes e fazer uma limpeza nos dados."
      ],
      "metadata": {
        "id": "OsnU-JtpnSUA"
      }
    },
    {
      "cell_type": "code",
      "source": [
        "# removendo os dados duplicados com função drop_duplicates do pandas\n",
        "df.drop_duplicates(\"review_id\", inplace = True) \n",
        "# usando a função fillna para substituição de valores assim, evitaremos problemas \n",
        "df.fillna('', inplace = True) \n",
        "# concatenando  duas colunas\n",
        "df['review'] = df['review_comment_title'] + ' ' + df['review_comment_message']\n",
        "# remoção de  entradas sem texto \n",
        "df = df[df['review'] != ' ']"
      ],
      "metadata": {
        "id": "-8dg9WgGm17f"
      },
      "execution_count": null,
      "outputs": []
    },
    {
      "cell_type": "code",
      "source": [
        "df.head()"
      ],
      "metadata": {
        "colab": {
          "base_uri": "https://localhost:8080/",
          "height": 250
        },
        "id": "n4Er37ZPm14S",
        "outputId": "97e6f6c1-ab5e-4542-b875-e32dd0b42c95"
      },
      "execution_count": null,
      "outputs": [
        {
          "output_type": "execute_result",
          "data": {
            "text/plain": [
              "                           review_id  review_score review_comment_title  \\\n",
              "3   e64fb393e7b32834bb789ff8bb30750e             5                        \n",
              "4   f7c4243c7fe1938f181bec41a392bdeb             5                        \n",
              "9   8670d52e15e00043ae7de4c01cc2fe06             4            recomendo   \n",
              "12  4b49719c8a200003f700d3d986ea1a19             4                        \n",
              "15  3948b09f7c818e2d86c9a546758b2335             5      Super recomendo   \n",
              "\n",
              "                               review_comment_message  \\\n",
              "3               Recebi bem antes do prazo estipulado.   \n",
              "4   Parabéns lojas lannister adorei comprar pela I...   \n",
              "9   aparelho eficiente. no site a marca do aparelh...   \n",
              "12    Mas um pouco ,travando...pelo valor ta Boa.\\r\\n   \n",
              "15  Vendedor confiável, produto ok e entrega antes...   \n",
              "\n",
              "                                               review  \n",
              "3               Recebi bem antes do prazo estipulado.  \n",
              "4    Parabéns lojas lannister adorei comprar pela ...  \n",
              "9   recomendo aparelho eficiente. no site a marca ...  \n",
              "12    Mas um pouco ,travando...pelo valor ta Boa.\\r\\n  \n",
              "15  Super recomendo Vendedor confiável, produto ok...  "
            ],
            "text/html": [
              "\n",
              "  <div id=\"df-307c661c-34f1-4729-8b1e-08eef98ac1a7\">\n",
              "    <div class=\"colab-df-container\">\n",
              "      <div>\n",
              "<style scoped>\n",
              "    .dataframe tbody tr th:only-of-type {\n",
              "        vertical-align: middle;\n",
              "    }\n",
              "\n",
              "    .dataframe tbody tr th {\n",
              "        vertical-align: top;\n",
              "    }\n",
              "\n",
              "    .dataframe thead th {\n",
              "        text-align: right;\n",
              "    }\n",
              "</style>\n",
              "<table border=\"1\" class=\"dataframe\">\n",
              "  <thead>\n",
              "    <tr style=\"text-align: right;\">\n",
              "      <th></th>\n",
              "      <th>review_id</th>\n",
              "      <th>review_score</th>\n",
              "      <th>review_comment_title</th>\n",
              "      <th>review_comment_message</th>\n",
              "      <th>review</th>\n",
              "    </tr>\n",
              "  </thead>\n",
              "  <tbody>\n",
              "    <tr>\n",
              "      <th>3</th>\n",
              "      <td>e64fb393e7b32834bb789ff8bb30750e</td>\n",
              "      <td>5</td>\n",
              "      <td></td>\n",
              "      <td>Recebi bem antes do prazo estipulado.</td>\n",
              "      <td>Recebi bem antes do prazo estipulado.</td>\n",
              "    </tr>\n",
              "    <tr>\n",
              "      <th>4</th>\n",
              "      <td>f7c4243c7fe1938f181bec41a392bdeb</td>\n",
              "      <td>5</td>\n",
              "      <td></td>\n",
              "      <td>Parabéns lojas lannister adorei comprar pela I...</td>\n",
              "      <td>Parabéns lojas lannister adorei comprar pela ...</td>\n",
              "    </tr>\n",
              "    <tr>\n",
              "      <th>9</th>\n",
              "      <td>8670d52e15e00043ae7de4c01cc2fe06</td>\n",
              "      <td>4</td>\n",
              "      <td>recomendo</td>\n",
              "      <td>aparelho eficiente. no site a marca do aparelh...</td>\n",
              "      <td>recomendo aparelho eficiente. no site a marca ...</td>\n",
              "    </tr>\n",
              "    <tr>\n",
              "      <th>12</th>\n",
              "      <td>4b49719c8a200003f700d3d986ea1a19</td>\n",
              "      <td>4</td>\n",
              "      <td></td>\n",
              "      <td>Mas um pouco ,travando...pelo valor ta Boa.\\r\\n</td>\n",
              "      <td>Mas um pouco ,travando...pelo valor ta Boa.\\r\\n</td>\n",
              "    </tr>\n",
              "    <tr>\n",
              "      <th>15</th>\n",
              "      <td>3948b09f7c818e2d86c9a546758b2335</td>\n",
              "      <td>5</td>\n",
              "      <td>Super recomendo</td>\n",
              "      <td>Vendedor confiável, produto ok e entrega antes...</td>\n",
              "      <td>Super recomendo Vendedor confiável, produto ok...</td>\n",
              "    </tr>\n",
              "  </tbody>\n",
              "</table>\n",
              "</div>\n",
              "      <button class=\"colab-df-convert\" onclick=\"convertToInteractive('df-307c661c-34f1-4729-8b1e-08eef98ac1a7')\"\n",
              "              title=\"Convert this dataframe to an interactive table.\"\n",
              "              style=\"display:none;\">\n",
              "        \n",
              "  <svg xmlns=\"http://www.w3.org/2000/svg\" height=\"24px\"viewBox=\"0 0 24 24\"\n",
              "       width=\"24px\">\n",
              "    <path d=\"M0 0h24v24H0V0z\" fill=\"none\"/>\n",
              "    <path d=\"M18.56 5.44l.94 2.06.94-2.06 2.06-.94-2.06-.94-.94-2.06-.94 2.06-2.06.94zm-11 1L8.5 8.5l.94-2.06 2.06-.94-2.06-.94L8.5 2.5l-.94 2.06-2.06.94zm10 10l.94 2.06.94-2.06 2.06-.94-2.06-.94-.94-2.06-.94 2.06-2.06.94z\"/><path d=\"M17.41 7.96l-1.37-1.37c-.4-.4-.92-.59-1.43-.59-.52 0-1.04.2-1.43.59L10.3 9.45l-7.72 7.72c-.78.78-.78 2.05 0 2.83L4 21.41c.39.39.9.59 1.41.59.51 0 1.02-.2 1.41-.59l7.78-7.78 2.81-2.81c.8-.78.8-2.07 0-2.86zM5.41 20L4 18.59l7.72-7.72 1.47 1.35L5.41 20z\"/>\n",
              "  </svg>\n",
              "      </button>\n",
              "      \n",
              "  <style>\n",
              "    .colab-df-container {\n",
              "      display:flex;\n",
              "      flex-wrap:wrap;\n",
              "      gap: 12px;\n",
              "    }\n",
              "\n",
              "    .colab-df-convert {\n",
              "      background-color: #E8F0FE;\n",
              "      border: none;\n",
              "      border-radius: 50%;\n",
              "      cursor: pointer;\n",
              "      display: none;\n",
              "      fill: #1967D2;\n",
              "      height: 32px;\n",
              "      padding: 0 0 0 0;\n",
              "      width: 32px;\n",
              "    }\n",
              "\n",
              "    .colab-df-convert:hover {\n",
              "      background-color: #E2EBFA;\n",
              "      box-shadow: 0px 1px 2px rgba(60, 64, 67, 0.3), 0px 1px 3px 1px rgba(60, 64, 67, 0.15);\n",
              "      fill: #174EA6;\n",
              "    }\n",
              "\n",
              "    [theme=dark] .colab-df-convert {\n",
              "      background-color: #3B4455;\n",
              "      fill: #D2E3FC;\n",
              "    }\n",
              "\n",
              "    [theme=dark] .colab-df-convert:hover {\n",
              "      background-color: #434B5C;\n",
              "      box-shadow: 0px 1px 3px 1px rgba(0, 0, 0, 0.15);\n",
              "      filter: drop-shadow(0px 1px 2px rgba(0, 0, 0, 0.3));\n",
              "      fill: #FFFFFF;\n",
              "    }\n",
              "  </style>\n",
              "\n",
              "      <script>\n",
              "        const buttonEl =\n",
              "          document.querySelector('#df-307c661c-34f1-4729-8b1e-08eef98ac1a7 button.colab-df-convert');\n",
              "        buttonEl.style.display =\n",
              "          google.colab.kernel.accessAllowed ? 'block' : 'none';\n",
              "\n",
              "        async function convertToInteractive(key) {\n",
              "          const element = document.querySelector('#df-307c661c-34f1-4729-8b1e-08eef98ac1a7');\n",
              "          const dataTable =\n",
              "            await google.colab.kernel.invokeFunction('convertToInteractive',\n",
              "                                                     [key], {});\n",
              "          if (!dataTable) return;\n",
              "\n",
              "          const docLinkHtml = 'Like what you see? Visit the ' +\n",
              "            '<a target=\"_blank\" href=https://colab.research.google.com/notebooks/data_table.ipynb>data table notebook</a>'\n",
              "            + ' to learn more about interactive tables.';\n",
              "          element.innerHTML = '';\n",
              "          dataTable['output_type'] = 'display_data';\n",
              "          await google.colab.output.renderOutput(dataTable, element);\n",
              "          const docLink = document.createElement('div');\n",
              "          docLink.innerHTML = docLinkHtml;\n",
              "          element.appendChild(docLink);\n",
              "        }\n",
              "      </script>\n",
              "    </div>\n",
              "  </div>\n",
              "  "
            ]
          },
          "metadata": {},
          "execution_count": 16
        }
      ]
    },
    {
      "cell_type": "markdown",
      "source": [
        "Realizamos alguns tratamentos iniciais nos dados textuais, agora vamos analisar os escores de avaliação pois eles serão uma variável alvo  "
      ],
      "metadata": {
        "id": "-VCSkVIBnorQ"
      }
    },
    {
      "cell_type": "code",
      "source": [
        "#contagem de valores usando value_counts\n",
        "df['review_score'].value_counts()"
      ],
      "metadata": {
        "colab": {
          "base_uri": "https://localhost:8080/"
        },
        "id": "Bda1uWn3m116",
        "outputId": "2153daba-c90b-4c9f-f051-0b828624ec05"
      },
      "execution_count": null,
      "outputs": [
        {
          "output_type": "execute_result",
          "data": {
            "text/plain": [
              "5    21672\n",
              "1     8723\n",
              "4     6241\n",
              "3     3615\n",
              "2     2138\n",
              "Name: review_score, dtype: int64"
            ]
          },
          "metadata": {},
          "execution_count": 17
        }
      ]
    },
    {
      "cell_type": "markdown",
      "source": [
        "Vejamos que temos 5 valores de score diferentes portanto, para facilitar na construção do classificador , vamos classificar as avaliações apenas como positiva ou negativa pois o classificador nos retornará esse tipo de informação. \n",
        "\n",
        "A **regra condicional** será essa:\n",
        "\n",
        "Se o score for menor ou igual a 3, será negativo (0) e senão , positivo (1)."
      ],
      "metadata": {
        "id": "NRwVuCLQn4AQ"
      }
    },
    {
      "cell_type": "code",
      "source": [
        "sentimento = [] #lista para armazenamento\n",
        "\n",
        "for score in df['review_score']: #usando o for para percorrer os nosso escores\n",
        "  if score > 3: \n",
        "    sentimento.append(1) # adicionando 1 para positivo\n",
        "  else:\n",
        "    sentimento.append(0) # adicionando 0 para negativo\n",
        "\n",
        "df['sentimento'] = sentimento # adicionando no dataframe a coluna sentimento"
      ],
      "metadata": {
        "id": "J029Cedqm10H"
      },
      "execution_count": null,
      "outputs": []
    },
    {
      "cell_type": "code",
      "source": [
        "df.info()"
      ],
      "metadata": {
        "colab": {
          "base_uri": "https://localhost:8080/"
        },
        "id": "-C2xCEknm1vS",
        "outputId": "7772ca37-020e-46cf-ca98-fcbddb64249c"
      },
      "execution_count": null,
      "outputs": [
        {
          "output_type": "stream",
          "name": "stdout",
          "text": [
            "<class 'pandas.core.frame.DataFrame'>\n",
            "Int64Index: 42389 entries, 3 to 99223\n",
            "Data columns (total 6 columns):\n",
            " #   Column                  Non-Null Count  Dtype \n",
            "---  ------                  --------------  ----- \n",
            " 0   review_id               42389 non-null  object\n",
            " 1   review_score            42389 non-null  int64 \n",
            " 2   review_comment_title    42389 non-null  object\n",
            " 3   review_comment_message  42389 non-null  object\n",
            " 4   review                  42389 non-null  object\n",
            " 5   sentimento              42389 non-null  int64 \n",
            "dtypes: int64(2), object(4)\n",
            "memory usage: 2.3+ MB\n"
          ]
        }
      ]
    },
    {
      "cell_type": "code",
      "source": [
        "#plotando um gráfico para visualizar os escores , aqui usamos a biblioteca de visualização de dados seaborn \n",
        "plt.figure(figsize=(8,6))\n",
        "sns.countplot(df['sentimento'])\n",
        "plt.show()"
      ],
      "metadata": {
        "colab": {
          "base_uri": "https://localhost:8080/",
          "height": 443
        },
        "id": "aM4bGGqWm1sL",
        "outputId": "d664589b-2571-4b82-b2bf-4a1e8ef4cdc7"
      },
      "execution_count": null,
      "outputs": [
        {
          "output_type": "stream",
          "name": "stderr",
          "text": [
            "/usr/local/lib/python3.7/dist-packages/seaborn/_decorators.py:43: FutureWarning: Pass the following variable as a keyword arg: x. From version 0.12, the only valid positional argument will be `data`, and passing other arguments without an explicit keyword will result in an error or misinterpretation.\n",
            "  FutureWarning\n"
          ]
        },
        {
          "output_type": "display_data",
          "data": {
            "text/plain": [
              "<Figure size 576x432 with 1 Axes>"
            ],
            "image/png": "[encoded data removed]"
          },
          "metadata": {
            "needs_background": "light"
          }
        }
      ]
    },
    {
      "cell_type": "markdown",
      "source": [
        "Observando o **gráfico de barra** acima, é possivel concluir que temos muito mais comentários positivos do que negativos."
      ],
      "metadata": {
        "id": "-986zMqgoUrh"
      }
    },
    {
      "cell_type": "markdown",
      "source": [
        "# Tratamento dos comentários"
      ],
      "metadata": {
        "id": "SBsdmlYSpEZJ"
      }
    },
    {
      "cell_type": "markdown",
      "source": [
        "Será construida uma função onde esta mesma tem como objetivo fazer uma \"higiene nos comentários\"\n",
        "\n",
        "Estrutura da **função limpar_texto** tem os seguintes componentes básicos de NLP  :\n",
        "* Tornar letras minúsculas\n",
        "* Limpar nome do usuário (@)\n",
        "* Remover URLs\n",
        "* Espaços em branco\n",
        "* Stop words\n",
        "* Lematização\n",
        "* Pontuações"
      ],
      "metadata": {
        "id": "QXMicZNGpCNw"
      }
    },
    {
      "cell_type": "code",
      "source": [
        "#baixando e importando o recurso  de stopwords\n",
        "nltk.download('stopwords')\n",
        "from nltk.corpus import stopwords"
      ],
      "metadata": {
        "colab": {
          "base_uri": "https://localhost:8080/"
        },
        "id": "1Rxjnidum1pO",
        "outputId": "11969cf6-d549-45c0-feae-0c73438412db"
      },
      "execution_count": null,
      "outputs": [
        {
          "output_type": "stream",
          "name": "stderr",
          "text": [
            "[nltk_data] Downloading package stopwords to /root/nltk_data...\n",
            "[nltk_data]   Unzipping corpora/stopwords.zip.\n"
          ]
        }
      ]
    },
    {
      "cell_type": "code",
      "source": [
        "\n",
        "stopwords_pt = stopwords.words(\"portuguese\")"
      ],
      "metadata": {
        "id": "ZCbQstwwm1mO"
      },
      "execution_count": null,
      "outputs": []
    },
    {
      "cell_type": "code",
      "source": [
        "#visualizando as stopwords em pt \n",
        "stopwords_pt"
      ],
      "metadata": {
        "colab": {
          "base_uri": "https://localhost:8080/"
        },
        "id": "WiMU1fC3m1jc",
        "outputId": "2102c4f7-df09-4f3b-f36f-4ce6bb32bd20"
      },
      "execution_count": null,
      "outputs": [
        {
          "output_type": "execute_result",
          "data": {
            "text/plain": [
              "['de',\n",
              " 'a',\n",
              " 'o',\n",
              " 'que',\n",
              " 'e',\n",
              " 'é',\n",
              " 'do',\n",
              " 'da',\n",
              " 'em',\n",
              " 'um',\n",
              " 'para',\n",
              " 'com',\n",
              " 'não',\n",
              " 'uma',\n",
              " 'os',\n",
              " 'no',\n",
              " 'se',\n",
              " 'na',\n",
              " 'por',\n",
              " 'mais',\n",
              " 'as',\n",
              " 'dos',\n",
              " 'como',\n",
              " 'mas',\n",
              " 'ao',\n",
              " 'ele',\n",
              " 'das',\n",
              " 'à',\n",
              " 'seu',\n",
              " 'sua',\n",
              " 'ou',\n",
              " 'quando',\n",
              " 'muito',\n",
              " 'nos',\n",
              " 'já',\n",
              " 'eu',\n",
              " 'também',\n",
              " 'só',\n",
              " 'pelo',\n",
              " 'pela',\n",
              " 'até',\n",
              " 'isso',\n",
              " 'ela',\n",
              " 'entre',\n",
              " 'depois',\n",
              " 'sem',\n",
              " 'mesmo',\n",
              " 'aos',\n",
              " 'seus',\n",
              " 'quem',\n",
              " 'nas',\n",
              " 'me',\n",
              " 'esse',\n",
              " 'eles',\n",
              " 'você',\n",
              " 'essa',\n",
              " 'num',\n",
              " 'nem',\n",
              " 'suas',\n",
              " 'meu',\n",
              " 'às',\n",
              " 'minha',\n",
              " 'numa',\n",
              " 'pelos',\n",
              " 'elas',\n",
              " 'qual',\n",
              " 'nós',\n",
              " 'lhe',\n",
              " 'deles',\n",
              " 'essas',\n",
              " 'esses',\n",
              " 'pelas',\n",
              " 'este',\n",
              " 'dele',\n",
              " 'tu',\n",
              " 'te',\n",
              " 'vocês',\n",
              " 'vos',\n",
              " 'lhes',\n",
              " 'meus',\n",
              " 'minhas',\n",
              " 'teu',\n",
              " 'tua',\n",
              " 'teus',\n",
              " 'tuas',\n",
              " 'nosso',\n",
              " 'nossa',\n",
              " 'nossos',\n",
              " 'nossas',\n",
              " 'dela',\n",
              " 'delas',\n",
              " 'esta',\n",
              " 'estes',\n",
              " 'estas',\n",
              " 'aquele',\n",
              " 'aquela',\n",
              " 'aqueles',\n",
              " 'aquelas',\n",
              " 'isto',\n",
              " 'aquilo',\n",
              " 'estou',\n",
              " 'está',\n",
              " 'estamos',\n",
              " 'estão',\n",
              " 'estive',\n",
              " 'esteve',\n",
              " 'estivemos',\n",
              " 'estiveram',\n",
              " 'estava',\n",
              " 'estávamos',\n",
              " 'estavam',\n",
              " 'estivera',\n",
              " 'estivéramos',\n",
              " 'esteja',\n",
              " 'estejamos',\n",
              " 'estejam',\n",
              " 'estivesse',\n",
              " 'estivéssemos',\n",
              " 'estivessem',\n",
              " 'estiver',\n",
              " 'estivermos',\n",
              " 'estiverem',\n",
              " 'hei',\n",
              " 'há',\n",
              " 'havemos',\n",
              " 'hão',\n",
              " 'houve',\n",
              " 'houvemos',\n",
              " 'houveram',\n",
              " 'houvera',\n",
              " 'houvéramos',\n",
              " 'haja',\n",
              " 'hajamos',\n",
              " 'hajam',\n",
              " 'houvesse',\n",
              " 'houvéssemos',\n",
              " 'houvessem',\n",
              " 'houver',\n",
              " 'houvermos',\n",
              " 'houverem',\n",
              " 'houverei',\n",
              " 'houverá',\n",
              " 'houveremos',\n",
              " 'houverão',\n",
              " 'houveria',\n",
              " 'houveríamos',\n",
              " 'houveriam',\n",
              " 'sou',\n",
              " 'somos',\n",
              " 'são',\n",
              " 'era',\n",
              " 'éramos',\n",
              " 'eram',\n",
              " 'fui',\n",
              " 'foi',\n",
              " 'fomos',\n",
              " 'foram',\n",
              " 'fora',\n",
              " 'fôramos',\n",
              " 'seja',\n",
              " 'sejamos',\n",
              " 'sejam',\n",
              " 'fosse',\n",
              " 'fôssemos',\n",
              " 'fossem',\n",
              " 'for',\n",
              " 'formos',\n",
              " 'forem',\n",
              " 'serei',\n",
              " 'será',\n",
              " 'seremos',\n",
              " 'serão',\n",
              " 'seria',\n",
              " 'seríamos',\n",
              " 'seriam',\n",
              " 'tenho',\n",
              " 'tem',\n",
              " 'temos',\n",
              " 'tém',\n",
              " 'tinha',\n",
              " 'tínhamos',\n",
              " 'tinham',\n",
              " 'tive',\n",
              " 'teve',\n",
              " 'tivemos',\n",
              " 'tiveram',\n",
              " 'tivera',\n",
              " 'tivéramos',\n",
              " 'tenha',\n",
              " 'tenhamos',\n",
              " 'tenham',\n",
              " 'tivesse',\n",
              " 'tivéssemos',\n",
              " 'tivessem',\n",
              " 'tiver',\n",
              " 'tivermos',\n",
              " 'tiverem',\n",
              " 'terei',\n",
              " 'terá',\n",
              " 'teremos',\n",
              " 'terão',\n",
              " 'teria',\n",
              " 'teríamos',\n",
              " 'teriam']"
            ]
          },
          "metadata": {},
          "execution_count": 25
        }
      ]
    },
    {
      "cell_type": "markdown",
      "source": [
        "Nas stopwords precisamos remover palavras que podem influenciar os resultados finais nesse caso, vamos remover as palavras \"nem\" , \"não\""
      ],
      "metadata": {
        "id": "Px8zX3DqveSe"
      }
    },
    {
      "cell_type": "code",
      "source": [
        "stopwords_pt.remove('não')\n",
        "stopwords_pt.remove('nem')"
      ],
      "metadata": {
        "id": "5smJaE5km1f1"
      },
      "execution_count": null,
      "outputs": []
    },
    {
      "cell_type": "markdown",
      "source": [
        "**Função de higiene textual**"
      ],
      "metadata": {
        "id": "3qPtRXOavxTC"
      }
    },
    {
      "cell_type": "code",
      "source": [
        "def limpar_texto(texto):\n",
        "  #transformando letras maisusculas em minusculas \n",
        "  texto = texto.lower()\n",
        "  #limpando  espaços e pontuações \n",
        "  texto = re.sub(r\"[\\W\\d_]+\", \" \", texto)\n",
        "  # separação de palavras \n",
        "  texto = [pal for pal in texto.split() if pal not in stopwords_pt]\n",
        "  #lematiza texto \n",
        "  lmp_texto = spc_pt(\" \".join(texto))\n",
        "  tokens = [word.lemma_ if word.lemma_ != \"-PRON-\" else word.lower_ for word in lmp_texto] #lematizando\n",
        "  \n",
        "  return \" \".join(tokens)"
      ],
      "metadata": {
        "id": "RjQwMW9Mm1ce"
      },
      "execution_count": null,
      "outputs": []
    },
    {
      "cell_type": "code",
      "source": [
        "#aplicando a função limpar_texto na coluna de comentários\n",
        "df['review_comment_message'] = df['review_comment_message'].apply(limpar_texto)"
      ],
      "metadata": {
        "id": "wOMegMSJm1ZM"
      },
      "execution_count": null,
      "outputs": []
    },
    {
      "cell_type": "markdown",
      "source": [
        "# **Extração de features : Bag of Words e TF-IDF**"
      ],
      "metadata": {
        "id": "fGwyszEAwND7"
      }
    },
    {
      "cell_type": "markdown",
      "source": [
        "Aqui utilizaremos uma **técnica de processamento de linguagem natural de modelagem de texto** chamada **Bag of Words** ou mais conhecido como saco de palavras e **TF-IDF** (*short for term frequency–inverse document frequency*) serve para indicar a importância de uma palavra de um documento em relação a uma coleção de documentos. Em termos mais técnicos, este mesmo é um **método de extração de recursos** com dados de texto.\n",
        "\n",
        "Confira um exemplo abaixo em forma de imagem:\n",
        "![1_3K9GIOVLNu0cRvQap_KaRg.png](data:image/png;base64,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)"
      ],
      "metadata": {
        "id": "Xe5T-gdHwXtS"
      }
    },
    {
      "cell_type": "markdown",
      "source": [
        "**Usando a técnica Saco de palavras**"
      ],
      "metadata": {
        "id": "4UzeUxPrx1-L"
      }
    },
    {
      "cell_type": "code",
      "source": [
        "# importando o CountVectorizer\n",
        "from sklearn.feature_extraction.text import CountVectorizer\n",
        "# instanciando o CountVectorizer, binary=True faz a codificacao binaria dos nossos dados \n",
        "vectorizer = CountVectorizer(binary=True, max_features=5000)\n",
        "texto = df['review_comment_message']\n",
        "# vetorizando o texto\n",
        "X_bow = vectorizer.fit_transform(texto)\n",
        "#visualizando\n",
        "X_bow.toarray()"
      ],
      "metadata": {
        "colab": {
          "base_uri": "https://localhost:8080/"
        },
        "id": "CcLNNdaWm1WL",
        "outputId": "86046870-5015-45c4-a3fd-8b4ba9d2da79"
      },
      "execution_count": null,
      "outputs": [
        {
          "output_type": "execute_result",
          "data": {
            "text/plain": [
              "array([[0, 0, 0, ..., 0, 0, 0],\n",
              "       [0, 0, 0, ..., 0, 0, 0],\n",
              "       [0, 0, 0, ..., 0, 0, 0],\n",
              "       ...,\n",
              "       [0, 0, 0, ..., 0, 0, 0],\n",
              "       [0, 0, 0, ..., 0, 0, 0],\n",
              "       [0, 0, 0, ..., 0, 0, 0]])"
            ]
          },
          "metadata": {},
          "execution_count": 29
        }
      ]
    },
    {
      "cell_type": "markdown",
      "source": [
        "**Usando a técnica Tfidf**"
      ],
      "metadata": {
        "id": "k1Tbd-r2yGzD"
      }
    },
    {
      "cell_type": "code",
      "source": [
        "#importando o tfidf\n",
        "from sklearn.feature_extraction.text import TfidfVectorizer\n",
        "# instanciando o TfidfVectorizer\n",
        "tfidf_vect = TfidfVectorizer(max_features=5000)\n",
        "# vetorizando o texto\n",
        "X_tfidf = tfidf_vect.fit_transform(texto)\n",
        "#visualizando\n",
        "print(X_tfidf)"
      ],
      "metadata": {
        "colab": {
          "base_uri": "https://localhost:8080/"
        },
        "id": "7K_9GOz4m1TA",
        "outputId": "cac86a99-3047-42af-b62b-ce6f8b4b438d"
      },
      "execution_count": null,
      "outputs": [
        {
          "output_type": "stream",
          "name": "stdout",
          "text": [
            "  (0, 1776)\t0.6912419975120544\n",
            "  (0, 3566)\t0.3057310151554017\n",
            "  (0, 256)\t0.3519620085923513\n",
            "  (0, 552)\t0.427475163402942\n",
            "  (0, 3871)\t0.3494292151907997\n",
            "  (1, 3760)\t0.4764293672452992\n",
            "  (1, 1945)\t0.30265959217069316\n",
            "  (1, 4595)\t0.21277836158522206\n",
            "  (1, 3733)\t0.3234264741088515\n",
            "  (1, 4249)\t0.33055315514783556\n",
            "  (1, 2421)\t0.31225318643877553\n",
            "  (1, 968)\t0.12987438187952968\n",
            "  (1, 85)\t0.2167014983184713\n",
            "  (1, 2530)\t0.20605256981033698\n",
            "  (1, 2631)\t0.1699531136764762\n",
            "  (1, 3221)\t0.43542721130488277\n",
            "  (2, 4811)\t0.18398933705086712\n",
            "  (2, 1121)\t0.16713190526958613\n",
            "  (2, 424)\t0.29764891459629156\n",
            "  (2, 3003)\t0.23904097248300465\n",
            "  (2, 3180)\t0.14699696654934277\n",
            "  (2, 834)\t0.0954458220313944\n",
            "  (2, 2311)\t0.29505074167087586\n",
            "  (2, 2728)\t0.4032971988301842\n",
            "  (2, 4346)\t0.14994492554291153\n",
            "  :\t:\n",
            "  (42386, 3472)\t0.16617746900671274\n",
            "  (42386, 2689)\t0.21688634967175516\n",
            "  (42386, 129)\t0.161732368643178\n",
            "  (42386, 1964)\t0.15572093087040983\n",
            "  (42386, 1655)\t0.3352727358053245\n",
            "  (42386, 4787)\t0.20350940031967366\n",
            "  (42386, 3043)\t0.17864825452747576\n",
            "  (42386, 4274)\t0.1515288509982318\n",
            "  (42386, 3662)\t0.0637152417368638\n",
            "  (42387, 1827)\t0.30982033026333944\n",
            "  (42387, 4115)\t0.28807937303168746\n",
            "  (42387, 2842)\t0.5016713733372873\n",
            "  (42387, 4444)\t0.6335505482861927\n",
            "  (42387, 3903)\t0.24075268525721483\n",
            "  (42387, 1638)\t0.1764890435757501\n",
            "  (42387, 2631)\t0.28080408787709477\n",
            "  (42388, 748)\t0.5363439872496194\n",
            "  (42388, 1378)\t0.3491790486540137\n",
            "  (42388, 2457)\t0.3589427394519404\n",
            "  (42388, 1225)\t0.339314341610839\n",
            "  (42388, 3477)\t0.2856836087720769\n",
            "  (42388, 3043)\t0.1580786341539419\n",
            "  (42388, 3662)\t0.11275809456064521\n",
            "  (42388, 834)\t0.1775576645054804\n",
            "  (42388, 4249)\t0.44225548688919175\n"
          ]
        }
      ]
    },
    {
      "cell_type": "markdown",
      "source": [
        "**Separação dos dados de treino e teste**"
      ],
      "metadata": {
        "id": "d1vTqX7cyjDH"
      }
    },
    {
      "cell_type": "markdown",
      "source": [
        "Antes de criar o nosso classificador precisamos dividir os dados em base de treino (70%) e teste (30%) essa é uma recomendação básica.\n",
        "![testedate.png](data:image/png;base64,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) "
      ],
      "metadata": {
        "id": "TlxBY3bQypIL"
      }
    },
    {
      "cell_type": "code",
      "source": [
        "#importando o recurso de treino e teste \n",
        "from sklearn.model_selection import train_test_split\n",
        "#separação de dados vetorizados usando saco de palavras\n",
        "X1_train, X1_test, y1_train, y1_test = train_test_split(X_bow, df['sentimento'],\n",
        "                                                    test_size=0.3, random_state = 10)\n",
        "#separação de dados vetorizados usando tfidf   \n",
        "X2_train, X2_test, y2_train, y2_test = train_test_split(X_tfidf, df['sentimento'],\n",
        "                                                        test_size=0.3, random_state = 10)\n",
        "\n"
      ],
      "metadata": {
        "id": "mseUHEccm1QR"
      },
      "execution_count": null,
      "outputs": []
    },
    {
      "cell_type": "markdown",
      "source": [
        "# Métricas de classificação"
      ],
      "metadata": {
        "id": "ZJXy9Sy40H7E"
      }
    },
    {
      "cell_type": "markdown",
      "source": [
        "Para avaliar nosos modelo vamos construir uma função onde podemos aplicar e visualizar as métricas dada abaixo:\n",
        "1. accuracy_score ( score de acuracia )\n",
        "2. confusion_matrix (matriz de confusão)\n",
        "3. f1_score, \n",
        "4. roc_auc_score ( curva AUC )\n"
      ],
      "metadata": {
        "id": "srSj5zpX0Kpk"
      }
    },
    {
      "cell_type": "code",
      "source": [
        "#importando as métricas que serão usadas para avaliação do nosso modelo de classificação:\n",
        "from sklearn.metrics import accuracy_score, confusion_matrix, f1_score, roc_auc_score"
      ],
      "metadata": {
        "id": "bSlHjCBEm1NE"
      },
      "execution_count": null,
      "outputs": []
    },
    {
      "cell_type": "code",
      "source": [
        "#função para visualizar as métricas do modelo \n",
        "def visualizar_metricas(y_true, y_pred):\n",
        "  print(\"Acurácia: \", accuracy_score(y_true, y_pred))\n",
        "  print(\"\\nAUROC:\", roc_auc_score(y_true, y_pred))\n",
        "  print(\"\\nF1-Score:\", f1_score(y_true, y_pred, average='weighted'))\n",
        "  print(\"\\nMatriz de confusão:\")\n",
        "  sns.heatmap(confusion_matrix(y_true, y_pred), annot=True)\n",
        "  plt.show()"
      ],
      "metadata": {
        "id": "zvo7Dy0Im1KW"
      },
      "execution_count": null,
      "outputs": []
    },
    {
      "cell_type": "markdown",
      "source": [
        "# **Construção de um classificador Naive Bayes**\n",
        "O modelo escolhido foi o classificador [multinomial Naïve Bayes](https://scikit-learn.org/stable/modules/generated/sklearn.naive_bayes.MultinomialNB.html),este mesmo é adequado para classificação com características discretas (por exemplo, contagem de palavras para classificação em um texto) dado pela seguinte fórmula:\n",
        "\n",
        "![formula.png](data:image/png;base64,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)"
      ],
      "metadata": {
        "id": "RVNi2tN501rs"
      }
    },
    {
      "cell_type": "code",
      "source": [
        "#importando o classificador multinomial naive bayes\n",
        "from sklearn.naive_bayes import MultinomialNB"
      ],
      "metadata": {
        "id": "tTtjAaU_1pfs"
      },
      "execution_count": null,
      "outputs": []
    },
    {
      "cell_type": "markdown",
      "source": [
        "**Usando o saco de palavras**"
      ],
      "metadata": {
        "id": "SsA0JklG1e7q"
      }
    },
    {
      "cell_type": "code",
      "source": [
        "\n",
        "nb1 = MultinomialNB() # carregando o modelo \n",
        "\n",
        "nb1.fit(X1_train.toarray(), y1_train) # treinando o modelo\n",
        "\n",
        "y1_gnb_pred = nb1.predict(X1_test.toarray()) # prevendo resultados\n",
        "\n",
        "visualizar_metricas(y1_test, y1_gnb_pred) # imprimindo o resultado"
      ],
      "metadata": {
        "colab": {
          "base_uri": "https://localhost:8080/",
          "height": 387
        },
        "id": "kZ3bw7Umm1HL",
        "outputId": "551061bc-7251-4af6-8d4a-67c8278f8810"
      },
      "execution_count": null,
      "outputs": [
        {
          "output_type": "stream",
          "name": "stdout",
          "text": [
            "Acurácia:  0.8781945427380672\n",
            "\n",
            "AUROC: 0.8651054979802435\n",
            "\n",
            "F1-Score: 0.8781199690316176\n",
            "\n",
            "Matriz de confusão:\n"
          ]
        },
        {
          "output_type": "display_data",
          "data": {
            "text/plain": [
              "<Figure size 432x288 with 2 Axes>"
            ],
            "image/png": "[encoded data removed]"
          },
          "metadata": {
            "needs_background": "light"
          }
        }
      ]
    },
    {
      "cell_type": "markdown",
      "source": [
        "**Usando a técnica tifdif**"
      ],
      "metadata": {
        "id": "CfhtFlpn18OR"
      }
    },
    {
      "cell_type": "code",
      "source": [
        "\n",
        "nb2 = MultinomialNB()\n",
        "\n",
        "nb2.fit(X2_train.toarray(), y2_train)\n",
        "\n",
        "y2_gnb_pred = nb2.predict(X2_test.toarray())\n",
        "\n",
        "visualizar_metricas(y2_test, y2_gnb_pred)"
      ],
      "metadata": {
        "colab": {
          "base_uri": "https://localhost:8080/",
          "height": 387
        },
        "id": "hOTmL4n0m1Ec",
        "outputId": "9337a127-bc01-4d38-cd85-eb3535c19701"
      },
      "execution_count": null,
      "outputs": [
        {
          "output_type": "stream",
          "name": "stdout",
          "text": [
            "Acurácia:  0.8802390500904301\n",
            "\n",
            "AUROC: 0.8656680002639563\n",
            "\n",
            "F1-Score: 0.8799561786384799\n",
            "\n",
            "Matriz de confusão:\n"
          ]
        },
        {
          "output_type": "display_data",
          "data": {
            "text/plain": [
              "<Figure size 432x288 with 2 Axes>"
            ],
            "image/png": "[encoded data removed]"
          },
          "metadata": {
            "needs_background": "light"
          }
        }
      ]
    },
    {
      "cell_type": "markdown",
      "source": [
        "Analisando as métricas do modelo, vimos que o o segundo se saiu muito bem usando a técnica de tifdif com uma acuracia de 88%.\n",
        "\n",
        "Vamos validar isso usando uma **função** para gerar novas previsões "
      ],
      "metadata": {
        "id": "5Rz4KDPQ2LTr"
      }
    },
    {
      "cell_type": "code",
      "source": [
        "def nova_previsao(texto):\n",
        "  '''Funcao para fazer nova previsão'''\n",
        "  texto_vetor = tfidf_vect.transform([texto]) # usando o texto vetorizado \n",
        "  y1_gnb_pred = nb1.predict(texto_vetor) # gerando novas previsões \n",
        "\n",
        "  if y1_gnb_pred == 0: # se o sentimento for negativo mostre na tela \n",
        "    print(\"Essa é uma review negativa.\")\n",
        "  else: # senão retorne para mim um sentimento positivo \n",
        "    print(\"Essa é uma review positiva.\")"
      ],
      "metadata": {
        "id": "iFSSFsIcm1Br"
      },
      "execution_count": null,
      "outputs": []
    },
    {
      "cell_type": "code",
      "source": [
        "nova_previsao(\"Nossa que produto que produto lindo\") # passando um novo comentário para nosso modelo "
      ],
      "metadata": {
        "colab": {
          "base_uri": "https://localhost:8080/"
        },
        "id": "ntgHqmaom0-f",
        "outputId": "d85f95cd-2c6c-4eb7-e1a4-46a6b2c8c49b"
      },
      "execution_count": null,
      "outputs": [
        {
          "output_type": "stream",
          "name": "stdout",
          "text": [
            "Essa é uma review positiva.\n"
          ]
        }
      ]
    },
    {
      "cell_type": "markdown",
      "source": [
        "# **Conclusões finais**"
      ],
      "metadata": {
        "id": "yNo3K7MI38yV"
      }
    },
    {
      "cell_type": "markdown",
      "source": [
        "A modelagem preditiva foi considerada mediana uma vez que, selecionamos apenas um modelo de classificação, este mesmo foi selecionado devido a sua acurancia e performance muito bem nesse tipo de problema embora, existe outros modelos a serem testados para assim, chegar em uma alta performace nos resultados.\n",
        "\n",
        "Portanto, apresenta também limitações na modelagem pois também estamos em um **contexto de E-commerce** desse modo, para cada tipo de contexto é necessário saber bem escolher um algortimo de classificação."
      ],
      "metadata": {
        "id": "4Hubo3P94BgX"
      }
    },
    {
      "cell_type": "markdown",
      "source": [
        "# **Referências**"
      ],
      "metadata": {
        "id": "o9u7l96j53L8"
      }
    },
    {
      "cell_type": "markdown",
      "source": [
        "1. Curso Classificação de sentimentos com spaCy 1 - IA Expert Academy\n",
        "2. https://scikit-learn.org/stable/modules/generated/sklearn.naive_bayes.MultinomialNB.html\n",
        "3. KUHN, Max; JOHNSON, Kjell. Feature engineering and selection: A practical approach for predictive models. CRC Press, 2019.\n",
        "4. https://www.analyticsvidhya.com/blog/2020/02/quick-introduction-bag-of-words-bow-tf-idf/"
      ],
      "metadata": {
        "id": "pQz02JPv59s9"
      }
    }
  ]
}